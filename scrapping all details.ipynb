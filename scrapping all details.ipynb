{
 "cells": [
  {
   "cell_type": "code",
   "execution_count": 1,
   "id": "b1075e4e-245b-43c8-8051-ef6714fe7b15",
   "metadata": {},
   "outputs": [],
   "source": [
    "from selenium.webdriver.support.ui import WebDriverWait as wait\n",
    "from selenium.webdriver.support import expected_conditions as EC\n",
    "from selenium.webdriver.chrome.options import Options\n",
    "from selenium.webdriver.common.desired_capabilities import DesiredCapabilities\n",
    "from webdriver_manager.chrome import ChromeDriverManager\n",
    "from selenium.webdriver.common.keys import Keys\n",
    "from selenium.webdriver import ActionChains\n",
    "from selenium import webdriver\n",
    "from selenium.common.exceptions import NoSuchElementException\n",
    "import warnings,os,time\n",
    "from selenium.webdriver.common.by import By\n",
    "from datetime import datetime\n",
    "from time import sleep"
   ]
  },
  {
   "cell_type": "code",
   "execution_count": 2,
   "id": "19ab68fa-ce91-41ad-9121-532664b3f168",
   "metadata": {},
   "outputs": [],
   "source": [
    "warnings.filterwarnings(\"ignore\", category=DeprecationWarning) \n",
    "cwd = os.getcwd()\n",
    "opts = Options()\n",
    "opts.add_argument('log-level=3')\n",
    "#opts.add_argument('--headless=chrome')\n",
    "prefs = {\"profile.default_content_setting_values.notifications\" : 2}\n",
    "opts.add_experimental_option(\"prefs\",prefs)\n",
    "dc = DesiredCapabilities.CHROME\n",
    "dc['loggingPrefs'] = {'driver': 'OFF', 'server': 'OFF', 'browser': 'OFF'}\n",
    "opts.add_argument('--ignore-ssl-errors=yes')\n",
    "opts.add_argument(\"--start-maximized\")\n",
    "opts.add_argument('--ignore-certificate-errors')\n",
    "opts.add_argument('--disable-blink-features=AutomationControlled')\n",
    "opts.add_experimental_option('excludeSwitches', ['enable-logging'])"
   ]
  },
  {
   "cell_type": "code",
   "execution_count": 3,
   "id": "1c3ac6d9-7e43-4f5d-8843-416765e96d66",
   "metadata": {},
   "outputs": [],
   "source": [
    "def date_show():\n",
    "    date = f\"[{time.strftime('%d-%m-%y %X')}]\"\n",
    "    return date\n",
    "\n",
    "def replacer(string):\n",
    "    a = string.replace(\";\", \"\").replace(\"\\n\", \"\")\n",
    "    return a"
   ]
  },
  {
   "cell_type": "code",
   "execution_count": 4,
   "id": "4366a9e8-dd11-4c02-a29f-7de2327fcbdb",
   "metadata": {},
   "outputs": [],
   "source": [
    "### Config Change\n",
    "file_to_open = \"data.txt\"\n",
    "csv_to_write = \"result.xlsx\"\n",
    "### Config Change"
   ]
  },
  {
   "cell_type": "code",
   "execution_count": 5,
   "id": "f1b55673-91c4-425b-a018-43af761addf5",
   "metadata": {},
   "outputs": [],
   "source": [
    "#open file\n",
    "with open(file_to_open, 'r', encoding=\"utf-8\") as op:\n",
    "    links = op.readlines()\n",
    "    links_count = len(links)\n",
    "\n",
    "counters = 0"
   ]
  },
  {
   "cell_type": "code",
   "execution_count": null,
   "id": "91d94a95-7b66-4f9b-a8f2-a360803e11dc",
   "metadata": {},
   "outputs": [
    {
     "name": "stdout",
     "output_type": "stream",
     "text": [
      "[23-11-23 16:10:54] ==> Success : 3484/7372 | https://www.coursera.org/learn/sleep... enia... gy-human-body-fundamentals...  \r"
     ]
    }
   ],
   "source": [
    "#setup browser\n",
    "browser = webdriver.Chrome(options=opts)\n",
    "while counters < links_count:\n",
    "    try:\n",
    "        link = links[counters].rstrip()\n",
    "        browser.get(link)\n",
    "        subjects = browser.find_elements(By.XPATH, \"//a[@class='cds-119 cds-113 cds-115 cds-breadcrumbs-link css-seqyon cds-142']\")\n",
    "        judul = browser.find_element(By.XPATH, \"//h1[@class='cds-119 cds-Typography-base css-1xy8ceb cds-121']\").text\n",
    "        desc = browser.find_element(By.XPATH, \"//p[@class='cds-119 cds-Typography-base css-80vnnb cds-121']\").text\n",
    "        whatyoulearn = browser.find_element(By.XPATH, \"//div[@class='css-15ko5n9']\").text\n",
    "        skillgains = browser.find_elements(By.XPATH, \"//span[@class='css-1l1jvyr']\")\n",
    "        skills = \"\"\n",
    "        for skill in skillgains:\n",
    "            skills += f\"{skill.text}, \"\n",
    "        all_course = browser.find_elements(By.XPATH, \"//a[@data-e2e='sdp-course-list-link']\")\n",
    "        courses = \"\"\n",
    "        for course in all_course:\n",
    "            courses += f\"{course.text}, \"\n",
    "        with open(csv_to_write, 'a', encoding=\"utf-8\") as csv:\n",
    "            csv.write(f\"{link}; {replacer(subjects[1].text)}; {replacer(judul)}; {replacer(desc)}; {replacer(whatyoulearn)}; {replacer(skills)}; {replacer(courses)};\\n\")\n",
    "        print(f\"{date_show()} ==> Success : {counters+1}/{links_count} | {link[:75]}... \", end=\"\\r\")\n",
    "    except:\n",
    "        print(f\"{date_show()} ==> Error : {counters+1}/{links_count} | {link[:75]}... \", end=\"\\r\")\n",
    "    counters+= 1"
   ]
  },
  {
   "cell_type": "code",
   "execution_count": null,
   "id": "391421cb-0490-48a5-bd18-88ab4fe835d2",
   "metadata": {},
   "outputs": [],
   "source": []
  }
 ],
 "metadata": {
  "kernelspec": {
   "display_name": "Python 3 (ipykernel)",
   "language": "python",
   "name": "python3"
  },
  "language_info": {
   "codemirror_mode": {
    "name": "ipython",
    "version": 3
   },
   "file_extension": ".py",
   "mimetype": "text/x-python",
   "name": "python",
   "nbconvert_exporter": "python",
   "pygments_lexer": "ipython3",
   "version": "3.9.12"
  }
 },
 "nbformat": 4,
 "nbformat_minor": 5
}
